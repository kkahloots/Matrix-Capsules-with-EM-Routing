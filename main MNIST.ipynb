{
 "cells": [
  {
   "cell_type": "code",
   "execution_count": 1,
   "metadata": {},
   "outputs": [],
   "source": [
    "import warnings\n",
    "warnings.filterwarnings('ignore')"
   ]
  },
  {
   "cell_type": "markdown",
   "metadata": {},
   "source": [
    "# Prepare the Dataset"
   ]
  },
  {
   "cell_type": "code",
   "execution_count": 2,
   "metadata": {},
   "outputs": [],
   "source": [
    "dataset_name = 'MNIST'"
   ]
  },
  {
   "cell_type": "code",
   "execution_count": 3,
   "metadata": {},
   "outputs": [
    {
     "name": "stderr",
     "output_type": "stream",
     "text": [
      "Using TensorFlow backend.\n"
     ]
    }
   ],
   "source": [
    "import numpy as np\n",
    "from skimage.color import grey2rgb\n",
    "from keras.datasets import mnist\n",
    "(X, y), (X_test, y_test) = mnist.load_data()\n",
    "X = np.concatenate((X, X_test))\n",
    "y = np.concatenate((y, y_test))\n",
    "imgs = X\n",
    "del X_test\n",
    "del y_test"
   ]
  },
  {
   "cell_type": "code",
   "execution_count": 4,
   "metadata": {},
   "outputs": [],
   "source": [
    "from DL.CapEM import CapEM"
   ]
  },
  {
   "cell_type": "code",
   "execution_count": null,
   "metadata": {},
   "outputs": [],
   "source": [
    "caps = CapEM(dataset_name, epochs=int(2e5))"
   ]
  },
  {
   "cell_type": "code",
   "execution_count": null,
   "metadata": {
    "scrolled": true
   },
   "outputs": [
    {
     "name": "stdout",
     "output_type": "stream",
     "text": [
      "\n",
      " Processing data...\n",
      "Scaling dataset\n",
      "Training dataset shape:  (56000, 28, 28, 3)\n",
      "Validation dataset shape:  (14000, 28, 28, 3)\n",
      "\n",
      " building a model...\n",
      "WARNING:tensorflow:From C:\\ProgramData\\Anaconda34\\envs\\gpu_env\\lib\\site-packages\\tensorflow\\python\\framework\\op_def_library.py:263: colocate_with (from tensorflow.python.framework.ops) is deprecated and will be removed in a future version.\n",
      "Instructions for updating:\n",
      "Colocations handled automatically by placer.\n",
      "\n",
      "[*] Defining Capsule Graph...\n",
      "input shape: (32, 28, 28, 3)\n",
      "WARNING:tensorflow:From C:\\Users\\KhalidKahlootBME\\Documents\\projects\\Dataset Expander\\Alg_CapEM\\CapEM_graph.py:84: conv2d (from tensorflow.python.layers.convolutional) is deprecated and will be removed in a future version.\n",
      "Instructions for updating:\n",
      "Use keras.layers.conv2d instead.\n",
      "conv1 output shape: (32, 12, 12, 32)\n",
      "primary capsule output shape: (32, 12, 12, 136)\n",
      "conv cap 1 votes shape: (800, 72, 16, 16)\n",
      "WARNING:tensorflow:From C:\\Users\\KhalidKahlootBME\\Documents\\projects\\Dataset Expander\\Alg_CapEM\\CapEM_graph.py:291: calling reduce_sum_v1 (from tensorflow.python.ops.math_ops) with keep_dims is deprecated and will be removed in a future version.\n",
      "Instructions for updating:\n",
      "keep_dims is deprecated, use keepdims instead\n",
      "WARNING:tensorflow:From C:\\Users\\KhalidKahlootBME\\Documents\\projects\\Dataset Expander\\Alg_CapEM\\CapEM_graph.py:283: calling reduce_max_v1 (from tensorflow.python.ops.math_ops) with keep_dims is deprecated and will be removed in a future version.\n",
      "Instructions for updating:\n",
      "keep_dims is deprecated, use keepdims instead\n",
      "conv cap 1 miu shape: (800, 1, 16, 16)\n",
      "conv cap 1 activation before reshape: (800, 16)\n",
      "conv cap 1 pose shape: (32, 5, 5, 16, 16)\n",
      "conv cap 1 activation after reshape: (32, 5, 5, 16, 1)\n",
      "conv cap 1 output shape: (32, 5, 5, 272)\n",
      "conv cap 2 votes shape: (288, 144, 16, 16)\n",
      "conv cap 2 pose shape: (288, 144, 16, 16)\n",
      "conv cap 2 activation shape: (288, 16, 1)\n",
      "class cap votes original shape: (288, 16, 10, 16)\n",
      "class cap votes coord add shape: (288, 16, 10, 18)\n",
      "class cap activation shape: (288, 10)\n",
      "class cap output shape: (32, 10)\n",
      "[*] Defining Loss Functions and Optimizer...\n",
      "decoder input value dimension:(32, 180)\n",
      "WARNING:tensorflow:From C:\\ProgramData\\Anaconda34\\envs\\gpu_env\\lib\\site-packages\\tensorflow\\python\\ops\\math_ops.py:3066: to_int32 (from tensorflow.python.ops.math_ops) is deprecated and will be removed in a future version.\n",
      "Instructions for updating:\n",
      "Use tf.cast instead.\n",
      "WARNING:tensorflow:From C:\\ProgramData\\Anaconda34\\envs\\gpu_env\\lib\\site-packages\\tensorflow\\python\\ops\\math_grad.py:102: div (from tensorflow.python.ops.math_ops) is deprecated and will be removed in a future version.\n",
      "Instructions for updating:\n",
      "Deprecated in favor of operator or tf.math.divide.\n",
      "building CapEM Model...\n",
      "\n",
      "Number of trainable paramters 3094294\n",
      "\n",
      " training a model...\n",
      "Initizalizing Variables ...\n",
      "EPOCH:  0\n"
     ]
    },
    {
     "name": "stderr",
     "output_type": "stream",
     "text": [
      "100%|██████████████████████████████████████████████████████████████████████████████| 1750/1750 [56:34<00:00,  2.33s/it]\n",
      "100%|████████████████████████████████████████████████████████████████████████████████| 437/437 [08:33<00:00,  1.27s/it]\n"
     ]
    },
    {
     "name": "stdout",
     "output_type": "stream",
     "text": [
      "TRAIN | total Loss:  0.24804018  | spread Loss:  0.1828465  | Recons:  0.055436775  | L2_loss:  2889.295  | Acc:  0.49355358\n",
      "VALID | total Loss:  0.14233842  | spread Loss:  0.07924429  | Recons:  0.053651474  | Acc:  0.71288615\n",
      "EPOCH:  1\n"
     ]
    },
    {
     "name": "stderr",
     "output_type": "stream",
     "text": [
      "100%|████████████████████████████████████████████████████████████████████████████| 1750/1750 [1:35:58<00:00,  4.18s/it]\n",
      "100%|████████████████████████████████████████████████████████████████████████████████| 437/437 [17:08<00:00,  2.42s/it]\n"
     ]
    },
    {
     "name": "stdout",
     "output_type": "stream",
     "text": [
      "TRAIN | total Loss:  0.11644682  | spread Loss:  0.053485937  | Recons:  0.053538173  | L2_loss:  5206.2817  | Acc:  0.80242854\n",
      "VALID | total Loss:  0.10475993  | spread Loss:  0.04179499  | Recons:  0.053541616  | Acc:  0.83867276\n",
      "EPOCH:  2\n"
     ]
    },
    {
     "name": "stderr",
     "output_type": "stream",
     "text": [
      " 98%|██████████████████████████████████████████████████████████████████████████▌ | 1717/1750 [2:20:55<03:06,  5.65s/it]"
     ]
    }
   ],
   "source": [
    "caps.fit(X, y)"
   ]
  },
  {
   "cell_type": "code",
   "execution_count": null,
   "metadata": {},
   "outputs": [],
   "source": [
    "y_pred = caps.predict(X)"
   ]
  },
  {
   "cell_type": "code",
   "execution_count": null,
   "metadata": {},
   "outputs": [],
   "source": [
    "y_pred.shape"
   ]
  },
  {
   "cell_type": "code",
   "execution_count": null,
   "metadata": {},
   "outputs": [],
   "source": []
  }
 ],
 "metadata": {
  "kernelspec": {
   "display_name": "Python 3",
   "language": "python",
   "name": "python3"
  },
  "language_info": {
   "codemirror_mode": {
    "name": "ipython",
    "version": 3
   },
   "file_extension": ".py",
   "mimetype": "text/x-python",
   "name": "python",
   "nbconvert_exporter": "python",
   "pygments_lexer": "ipython3",
   "version": "3.6.7"
  }
 },
 "nbformat": 4,
 "nbformat_minor": 2
}
